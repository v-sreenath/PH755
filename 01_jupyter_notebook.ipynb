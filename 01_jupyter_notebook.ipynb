{
 "cells": [
  {
   "cell_type": "code",
   "execution_count": 1,
   "metadata": {},
   "outputs": [
    {
     "name": "stdout",
     "output_type": "stream",
     "text": [
      "y/x = 2.0\n"
     ]
    }
   ],
   "source": [
    "# This is a cell.  This cell is set to code environment. \n",
    "x = 5.\n",
    "y =10.\n",
    "print(\"y/x =\", y/x)"
   ]
  },
  {
   "cell_type": "markdown",
   "metadata": {},
   "source": [
    "# Title \n",
    "\n",
    "## Sub title\n",
    "\n",
    "### Sub sub title\n",
    "\n",
    "#### title 4\n",
    "\n",
    "##### heading 5\n",
    "\n",
    "###### heading 6\n",
    "This is another cell. It is set to Markdown environment. \n",
    "\n",
    "Let $T(\\hat n)$ (for inline equation use dollar sign)be the temperature. I can expand temperature in harmonic space as follows. $$ T(\\hat n) \\, =\\, \\sum_{\\ell m} a_{\\ell m} Y_{\\ell m} (\\hat n) $$\n",
    "\n",
    "For stand-alone equation use two dollar signs.\n",
    "\n",
    "\n",
    "**This text is in bold**\n",
    "\n",
    "*This text is in italics*\n",
    "\n",
    "**Lists**\n",
    "\n",
    "1. Item 1\n",
    "\n",
    "       a. subitem 1\n",
    "       b. subitem 2\n",
    "2. Item 2\n",
    "\n",
    "      - subitem 2.1\n",
    "      - subitem 2.2\n",
    "3. Item 3\n",
    "4. Item 4\n",
    "\n",
    "\n",
    "Link to learn more about jupyter is found [here](https://medium.com/analytics-vidhya/the-ultimate-markdown-guide-for-jupyter-notebook-d5e5abf728fd)."
   ]
  },
  {
   "cell_type": "code",
   "execution_count": null,
   "metadata": {},
   "outputs": [],
   "source": []
  }
 ],
 "metadata": {
  "kernelspec": {
   "display_name": "Python 3",
   "language": "python",
   "name": "python3"
  },
  "language_info": {
   "codemirror_mode": {
    "name": "ipython",
    "version": 3
   },
   "file_extension": ".py",
   "mimetype": "text/x-python",
   "name": "python",
   "nbconvert_exporter": "python",
   "pygments_lexer": "ipython3",
   "version": "3.8.5"
  }
 },
 "nbformat": 4,
 "nbformat_minor": 4
}

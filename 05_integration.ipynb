{
 "cells": [
  {
   "cell_type": "markdown",
   "metadata": {},
   "source": [
    "# Integration"
   ]
  },
  {
   "cell_type": "markdown",
   "metadata": {},
   "source": [
    "### Trapezoidal rule\n",
    "\n",
    "$$ \\int_a^b f(x) {\\rm d}x = h \\left[ \\frac{1}{2}f(a) + \\frac{1}{2}f(b) + \\sum_{k=1}^{k=N-1} f(a+k h)\\right]$$\n",
    "\n",
    "**Exercise :** Compute the integral \n",
    "$$\n",
    "\\int_0^2 (x^4\\, -\\,2\\,x\\, +1) dx\n",
    "$$\n",
    "using trapezoidal rule for N=10."
   ]
  },
  {
   "cell_type": "code",
   "execution_count": null,
   "metadata": {},
   "outputs": [],
   "source": []
  },
  {
   "cell_type": "markdown",
   "metadata": {},
   "source": [
    "#### Analytically\n",
    "\n",
    "$$\\int_0^2 (x^4 -2 x + 1) d x = \\left[ \\frac{1}{5}x^5 - x^2 + x \\right]_0^2\\\\\n",
    " = 4.4$$\n",
    " \n",
    " The error is only $(4.50656-4.4)/4.4 = 2.4\\%$. The error can be decreased by increasing step size. \n",
    " \n",
    " Find out the error if $N=100$. What is the error if $N=1000$?\n",
    " \n",
    " \n",
    " #### Advantage of Trapezoidal rule\n",
    " \n",
    " * Few lines of code - easy to implement.\n",
    " * Useful for getting a quick but not so accurate estimate."
   ]
  },
  {
   "cell_type": "code",
   "execution_count": 1,
   "metadata": {},
   "outputs": [],
   "source": [
    "# function to be iterated\n",
    "def f(x):\n",
    "    return x**4 - 2.*x + 1."
   ]
  },
  {
   "cell_type": "code",
   "execution_count": 7,
   "metadata": {},
   "outputs": [],
   "source": [
    "# Define all parameters here\n",
    "a = 0.\n",
    "b = 2.\n",
    "N = 1000 "
   ]
  },
  {
   "cell_type": "code",
   "execution_count": 7,
   "metadata": {},
   "outputs": [
    {
     "name": "stdout",
     "output_type": "stream",
     "text": [
      "I( 0.0 ,  2.0 ) is 4.4000106666656\n"
     ]
    }
   ],
   "source": [
    "# Main programme : trapezoidal rule\n",
    "h = (b-a)/N\n",
    "s = f(a)/2.\n",
    "for k in range(1,N,1):\n",
    "    s +=f(a+k*h)\n",
    "s += f(b)/2.\n",
    "print(\"I(\",a,\", \",b,\") is\", s*h)"
   ]
  },
  {
   "cell_type": "markdown",
   "metadata": {},
   "source": [
    "### Simpson's rule\n",
    "\n",
    "$$ \\int_a^b f(x) {\\rm d}x = \\frac{h}{3} \\left[ f(a) + f(b) + 4 \\sum_{k {\\rm odd}} f(a + k h) \n",
    "+ 2 \\sum_{k {\\rm even}} f(a+k h) \\right] $$\n",
    "\n",
    "**Exercise** Perform the previous integral using Simpson's rule."
   ]
  },
  {
   "cell_type": "code",
   "execution_count": null,
   "metadata": {},
   "outputs": [],
   "source": [
    "    "
   ]
  },
  {
   "cell_type": "markdown",
   "metadata": {},
   "source": [
    "From above example, note that even with 10 slices accuracy is much better than that obtained using trapezoidal rule. What is the improvement in accuracy when $N=100, 1000$? Compare with the result obtained using trapezoidal rule."
   ]
  },
  {
   "cell_type": "code",
   "execution_count": null,
   "metadata": {},
   "outputs": [],
   "source": []
  },
  {
   "cell_type": "markdown",
   "metadata": {},
   "source": [
    "### Practical estimation of errors\n",
    "\n",
    "#### For trapezoidal rule\n",
    "\n",
    "1. Compute the integral once with step size $h_1$. Let the estimate be denoted by $I_1$.\n",
    "\n",
    "2. Repeat the calculation with half the step size, *i.e.* with $h_2\\, =\\, h_1/2$. Let the estimate be denoted by $I_2$.\n",
    "\n",
    "3. The error in both estimate could be written as\n",
    "\n",
    "$$\n",
    "I = I_1\\, +\\, c_1 h_1^2\\, =\\, I_2\\, +\\, c_1 h_2^2.\n",
    "$$\n",
    "Rewriting $h_1 = 2 h_2$, we can write\n",
    "$$\n",
    "\\epsilon_2\\, =\\, c h_2^2\\, =\\, \\frac{1}{3} ( I_2\\, -\\, I_1 )\n",
    "$$\n",
    "\n",
    "\n",
    "#### For Simpson's rule \n",
    "\n",
    "Show that the error estimate is \n",
    "$$\n",
    "\\epsilon_2\\, =\\, \\frac{1}{15}\\,(I_2\\, -\\, I_1).\n",
    "$$\n",
    " \n",
    "\n",
    "**Exercise:** Use the trapezoidal rule to compute $\\int_0^2\\, (x^4\\, -\\, 2 x\\, +1) {\\rm d} x$, for $N_1\\, =\\, 10$ and $N_2\\, =\\, 20$. Print an estimate on the error. Compare the error thus obtained with the error obtained by taking the difference between I_2 and the analytical value $4.4$. What is the cause of the difference?"
   ]
  },
  {
   "cell_type": "code",
   "execution_count": null,
   "metadata": {},
   "outputs": [],
   "source": []
  },
  {
   "cell_type": "markdown",
   "metadata": {},
   "source": [
    "### Adaptive Integration (for Trapezoidal rule)\n",
    "\n",
    "1. Choose an initial value of $N_1$ and required accuracy. Estimate $I_1$ corresponding to the $N_1$ steps.\n",
    "\n",
    "2. Double the number of steps and use \n",
    "$$\n",
    "I_i\\, =\\, \\frac{1}{2}I_{i-1}\\, + h_i\\, \\sum_{k\\, odd}\\, f(a\\, +\\, k\\,h_i).\n",
    "$$\n",
    "to find the value of $I_2$. Calculate the error.\n",
    "\n",
    "3. If the error estimate is smaller than the required error, stop. Else, repeat from step 2."
   ]
  },
  {
   "cell_type": "code",
   "execution_count": null,
   "metadata": {},
   "outputs": [],
   "source": []
  },
  {
   "cell_type": "markdown",
   "metadata": {},
   "source": [
    "### Romberg Integration\n",
    "\n",
    "The idea is that one can improve our estimate of the integral by adding the error estimate. For instance, in trapezoidal rule the error is\n",
    "$$\n",
    "c_1 h_i^2\\, =\\, \\frac{1}{3}\\, (I_i\\, -\\, I_{i-1}).\n",
    "$$\n",
    "Since, the true value of integral is $I\\, =\\, I_i\\, + c_1\\,h_i^2 +\\, {\\cal O} (h_i^4)$, we can write our estimate as\n",
    "$$\n",
    "I\\, =\\, I_i\\, + \\frac{1}{3}\\, (I_i\\, -\\, I_{i-1}) +\\, {\\cal O} (h_i^4).\n",
    "$$\n",
    "In this form our estimate is accurate up to ${\\cal O}(h_i^3)$ and the error is at ${\\cal O}(h_i^4)$. This is the same accuracy as Simpson's rule. \n",
    "\n",
    "We can generalize this method. For this, define\n",
    "\n",
    "$$\n",
    "R_{i,1}\\, =\\, I_i\\hspace{3cm} R_i,2\\, =\\, I_i\\, +\\, \\frac{1}{3}\\, (I_i\\, -\\, I_{i-1})\\, =\\, R_{i,1} + \\frac{1}{3} (R_{i,1} - R_{i-1,1}).\n",
    "$$\n",
    "\n",
    "Then, I can write the integral as\n",
    "$$\n",
    "I\\, =\\, R_{i,2}\\, +\\, c_2\\,h_i^4\\,+\\, {\\cal O}(h_i^6),\n",
    "$$\n",
    "where $c_2$ is another constant. Comparing the above estimate with the previous step, we can write\n",
    "$$\n",
    "c_2\\,h_i^4\\, =\\, \\frac{1}{15} ( R_{i,2}\\, -\\, R_{i-1,2}.\n",
    "$$\n",
    "Substituting this back in to the integral, we obtain\n",
    "$$\n",
    "I\\, =\\, R_{i,2}\\, +\\, \\frac{1}{15} (R_{i,2}\\, -\\, R_{i-1,2})\\, +\\, {\\cal O}(h_i^6).\n",
    "$$\n",
    "Now we have an estimate which is correct up to ${\\cal O} (h_i^5)$ and error upto sixth order.\n",
    "The process can be continued by defining $R_{i,3} \\, =\\, R_{i,2}\\, +\\, \\frac{1}{15} (R_{i,2}\\, -\\, R_{i-1,2})$ and so on. \n",
    "\n",
    "In general, if $R_{i,m}$ is an estimate calculated at the $i^{th}$ round of the doubling procedure  and accurate to order $h_i^{2m-1}$, with an error of order $h_i^{2m}$, then \n",
    "$$\n",
    "I \\, =\\, R_{i,m}\\, +\\, c_m\\,h_i^{2m}\\, +\\, {\\cal O} (h_i^{2(m+1)})\\\\\n",
    "I\\, =\\, R_{i-1,m}\\, +\\, c_m\\,h_{i-1,m}^{2m}\\, +\\, {\\cal O} (h_{i-1}^{2(m+1)})\\, = \\, R_{i-1,m}\\, +\\, c_m\\,2^{2m}\\,h_{i,m}^{2m}\\, +\\, {\\cal O} (h_{i}^{2(m+1)})\n",
    "$$\n",
    "From the above two equations one could write\n",
    "$$\n",
    "c_m\\, h_i^{2m}\\,=\\, \\frac{1}{4^m\\,-\\,1}\\, (R_{i,m} - R_{i-1,m})\n",
    "$$\n",
    "then the integral estimate can be updated to\n",
    "$$\n",
    "I\\, =\\, R_{i,m+1}\\, +\\, {\\cal O}(h_i^{2m+2})\n",
    "$$\n",
    "where \n",
    "$$\n",
    "R_{i,m+1}\\, =\\, R{i,m}\\, +\\, \\frac{1}{4^m\\,-\\,1}\\, (R_{i,m} - R_{i-1,m}),\n",
    "$$\n",
    "which is accurate to order $h_i^{2m+1}$ with an error of ${\\cal O}(h_i^{2\\,m+2})$. \n",
    "\n",
    "In practice,\n",
    "\n",
    "1. Compute $I_1\\, \\equiv R_{1,1}$ and $I_2\\, \\equiv R_{2,1}$ using trapezoidal rule.\n",
    "\n",
    "2. From these estimate $R_{2,2}$.\n",
    "\n",
    "3. Now compute $R_{3,1}\\, \\equiv\\, I_3$ and from this compute $R_{3,2}$ and $R_{3,3}$. \n",
    "\n",
    "4. In general, compute $R_{i,1}\\, =\\, I_i$ and from it $R_{i,2}$, ..., $R_{i,i}$. \n",
    "\n",
    "5. For each estimate one can also calculate the error. When the error is below the targeted error, we can stop the procedure. "
   ]
  },
  {
   "cell_type": "markdown",
   "metadata": {},
   "source": [
    "**Exercise :** Consider the integral \n",
    "$$\n",
    "I\\, =\\, \\int_0^1\\, \\sin^2\\, \\sqrt{100\\,x}\\,{\\rm d}x\n",
    "$$\n",
    "(a) Compute the above integral using adaptive trapezoidal rule with an error estimate of less than $10^{-6}$. Start with a single slice and double the steps till you reach the required accuracy. \n",
    "At each step, the program should print the number of slices, its estimate of the integral and its estimate of the error on the integral. \n",
    "(Hint: result is around 0.45). \n",
    "\n",
    "(b) Modify the code to compute the integral using Romberg integration method. You should find that the Romberg method reaches the required accuracy faster. "
   ]
  },
  {
   "cell_type": "code",
   "execution_count": 2,
   "metadata": {},
   "outputs": [],
   "source": []
  },
  {
   "cell_type": "code",
   "execution_count": null,
   "metadata": {},
   "outputs": [],
   "source": []
  }
 ],
 "metadata": {
  "kernelspec": {
   "display_name": "Python 3",
   "language": "python",
   "name": "python3"
  },
  "language_info": {
   "codemirror_mode": {
    "name": "ipython",
    "version": 3
   },
   "file_extension": ".py",
   "mimetype": "text/x-python",
   "name": "python",
   "nbconvert_exporter": "python",
   "pygments_lexer": "ipython3",
   "version": "3.7.6"
  }
 },
 "nbformat": 4,
 "nbformat_minor": 4
}

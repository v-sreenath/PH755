{
 "cells": [
  {
   "cell_type": "markdown",
   "metadata": {},
   "source": [
    "# Introduction to Python"
   ]
  },
  {
   "cell_type": "markdown",
   "metadata": {},
   "source": [
    "In this notebook, we will learn some basics of programming using Python.\n",
    "\n",
    "A program consists of a list of instructions or statements which the computer will execute one by one. The following sections introduce various types of statements in the Python language."
   ]
  },
  {
   "cell_type": "markdown",
   "metadata": {},
   "source": [
    "### Variables and Assignments"
   ]
  },
  {
   "cell_type": "code",
   "execution_count": null,
   "metadata": {},
   "outputs": [],
   "source": [
    "# Assignment statement: i.e. assign a value to a variable. Eg.\n",
    "x = 1\n",
    "# The above statement tells the computer to assign (or set) value 1 to the variable x."
   ]
  },
  {
   "cell_type": "markdown",
   "metadata": {},
   "source": [
    "#### Rules in naming variables\n",
    "\n",
    "1. Variables can contain alphabets, '_' and numbers.\n",
    "2. Variables cannot start with a number\n",
    "\n",
    "Eg. : abc, star_123, _xft etc. are valid variables. However 123_x is not a valid variable in Python. \n",
    "\n",
    "While doing Physics problems, the code becomes **more readable** if we use variables such as 'angular_momentum', 'velocity_initial' etc."
   ]
  },
  {
   "cell_type": "markdown",
   "metadata": {},
   "source": [
    "### Variable types\n",
    "\n",
    "1. Integers : 0, 1, 2345, -7862\n",
    "2. Float : 3.14159, -1.0, -6.63e-34\n",
    "3. Complex : 1 + 2j, -3.5 -0.8j"
   ]
  },
  {
   "cell_type": "code",
   "execution_count": null,
   "metadata": {},
   "outputs": [],
   "source": [
    "#Integers\n",
    "-3496"
   ]
  },
  {
   "cell_type": "code",
   "execution_count": null,
   "metadata": {},
   "outputs": [],
   "source": [
    "#Float\n",
    "-6.63e-3"
   ]
  },
  {
   "cell_type": "code",
   "execution_count": null,
   "metadata": {},
   "outputs": [],
   "source": [
    "# Complex\n",
    "-1. + 3.4j"
   ]
  },
  {
   "cell_type": "markdown",
   "metadata": {},
   "source": [
    "Note that:\n",
    "\n",
    "* Type of variable is set by the value assigned to it\n",
    "* Storage size used by these variables types are different. \n",
    "\n",
    "\n",
    "Another variable type:\n",
    "\n",
    "* String: \n",
    "\n",
    "x = \"This is a string\"\n",
    "\n",
    "Strings are a set of characters. Numbers can also constitute a string. Eg:- x = \"1.453\". In this example, x does not represent a number, but a set of symbols  which are numbers and a decimal."
   ]
  },
  {
   "cell_type": "markdown",
   "metadata": {},
   "source": [
    "### Output and Input Statement\n",
    "\n",
    "Out put statement is `print` and input statement is `input`"
   ]
  },
  {
   "cell_type": "code",
   "execution_count": null,
   "metadata": {},
   "outputs": [],
   "source": [
    "\n",
    "x = 1\n",
    "print (x)\n",
    "# If you are using Python 3, print is a function and hence so you should write print(x). "
   ]
  },
  {
   "cell_type": "code",
   "execution_count": null,
   "metadata": {},
   "outputs": [],
   "source": [
    "y =5.6\n",
    "print (x, y)"
   ]
  },
  {
   "cell_type": "code",
   "execution_count": null,
   "metadata": {},
   "outputs": [],
   "source": [
    "string = \"The value of\"\n",
    "print (string, \"x is\", x, \"and\", string,\"y is\", y)"
   ]
  },
  {
   "cell_type": "code",
   "execution_count": null,
   "metadata": {},
   "outputs": [],
   "source": [
    "thevalueof = \"The square of\"\n",
    "print (thevalueof, \"x is\", x*x, \"and\", thevalueof,\"y is\", y*y)"
   ]
  },
  {
   "cell_type": "code",
   "execution_count": null,
   "metadata": {},
   "outputs": [],
   "source": [
    "#input statement\n",
    "x = input(\"Enter the value of x\")\n",
    "print (x)"
   ]
  },
  {
   "cell_type": "code",
   "execution_count": null,
   "metadata": {},
   "outputs": [],
   "source": [
    "# type function returns the type of the variable\n",
    "type(x)"
   ]
  },
  {
   "cell_type": "code",
   "execution_count": null,
   "metadata": {},
   "outputs": [],
   "source": [
    "type(complex(x))\n"
   ]
  },
  {
   "cell_type": "code",
   "execution_count": null,
   "metadata": {},
   "outputs": [],
   "source": [
    "print(x, \"is a \", type(x))\n",
    "print(float(x), \"is a \", type(float(x)))\n",
    "print(complex(x), \"is a \", type(complex(x)))"
   ]
  },
  {
   "cell_type": "code",
   "execution_count": null,
   "metadata": {},
   "outputs": [],
   "source": [
    "print(int(float(x)), \"is a \", type(int(float(x))))"
   ]
  },
  {
   "cell_type": "code",
   "execution_count": null,
   "metadata": {},
   "outputs": [],
   "source": [
    "x = input(\"Enter the value of x:\")\n",
    "print (x)"
   ]
  },
  {
   "cell_type": "code",
   "execution_count": null,
   "metadata": {},
   "outputs": [],
   "source": [
    "temp = float(input(\"Enter the value of x :\"))\n",
    "print (\"The value of temp is :\", temp)\n",
    "x=int(temp)\n",
    "print (\"The value of x is :\", x)\n",
    "# Run this code and give temp = \"0.5\", i.e. as a string. Observe the output. \n",
    "# Now rerun the code by changing `float` in the third line to `complex` and \n",
    "#`int` and see what happens."
   ]
  },
  {
   "cell_type": "code",
   "execution_count": null,
   "metadata": {},
   "outputs": [],
   "source": [
    "x=\"5\"\n",
    "int(x)"
   ]
  },
  {
   "cell_type": "markdown",
   "metadata": {},
   "source": [
    "### Type conversion"
   ]
  },
  {
   "cell_type": "code",
   "execution_count": null,
   "metadata": {},
   "outputs": [],
   "source": [
    "# int() command converts a float in to an integer\n",
    "\n",
    "int(-3.1)"
   ]
  },
  {
   "cell_type": "code",
   "execution_count": null,
   "metadata": {},
   "outputs": [],
   "source": [
    "# int('string') can convert string to integer if the string contains no floating point\n",
    "# The following statement will give int as output\n",
    "print(type(int(\"7\"))) # use print() if you need to see output of an intermediate line\n",
    "# The following statement will give an error\n",
    "int(\"3.1\")"
   ]
  },
  {
   "cell_type": "code",
   "execution_count": null,
   "metadata": {},
   "outputs": [],
   "source": [
    "#int cannot convert complex in to int\n",
    "int(1 +0j)"
   ]
  },
  {
   "cell_type": "code",
   "execution_count": null,
   "metadata": {},
   "outputs": [],
   "source": [
    "# float can convert a string in to float and an integer in to float\n",
    "\n",
    "print (type(float(\"1.2\")))\n",
    "\n",
    "print(float(3))"
   ]
  },
  {
   "cell_type": "code",
   "execution_count": null,
   "metadata": {},
   "outputs": [],
   "source": [
    "# complex converts a float/integer in to complex\n",
    "\n",
    "print(complex(1))\n",
    "print(complex(3.9))"
   ]
  },
  {
   "cell_type": "markdown",
   "metadata": {},
   "source": [
    "### Arithmetic"
   ]
  },
  {
   "cell_type": "code",
   "execution_count": null,
   "metadata": {},
   "outputs": [],
   "source": [
    "x =4\n",
    "y = 2"
   ]
  },
  {
   "cell_type": "code",
   "execution_count": null,
   "metadata": {},
   "outputs": [],
   "source": [
    "# Addition\n",
    "x+y"
   ]
  },
  {
   "cell_type": "code",
   "execution_count": null,
   "metadata": {},
   "outputs": [],
   "source": [
    "# Subtraction\n",
    "x-y"
   ]
  },
  {
   "cell_type": "code",
   "execution_count": null,
   "metadata": {},
   "outputs": [],
   "source": [
    "# Multiplication\n",
    "x*y"
   ]
  },
  {
   "cell_type": "code",
   "execution_count": null,
   "metadata": {},
   "outputs": [],
   "source": [
    "# Division\n",
    "x/y"
   ]
  },
  {
   "cell_type": "code",
   "execution_count": null,
   "metadata": {},
   "outputs": [],
   "source": [
    "# Raising x to the power y\n",
    "x**y"
   ]
  },
  {
   "cell_type": "code",
   "execution_count": null,
   "metadata": {},
   "outputs": [],
   "source": [
    "# Integer division\n",
    "# As noted above, when we divide two integers, \n",
    "# the result gets rounded down to its nearest integer.\n",
    "x=14\n",
    "y=3.\n",
    "x//y"
   ]
  },
  {
   "cell_type": "code",
   "execution_count": null,
   "metadata": {},
   "outputs": [],
   "source": [
    "#Modulo operator\n",
    "x=14\n",
    "y=3\n",
    "x%y\n",
    "\n",
    "# This operator can be used to find for instance \n",
    "# whether a number is even or odd."
   ]
  },
  {
   "cell_type": "markdown",
   "metadata": {},
   "source": [
    "#### Combining mathematical operators\n",
    "\n",
    "`x + 2*y`    is equivalent to    $x + 2y$\n",
    "\n",
    "`x - y/2`    is equivalent to    $x - y/2$\n",
    "\n",
    "`3*x**2`    is equivalent to   $3*x^2$\n",
    "\n",
    "`x/2*y`    is equivalent to $\\frac{1}{2}x y$\n",
    "\n",
    "One can also use brackets to separate out operators. Eg:- Note the difference\n",
    "\n",
    "`x = a + b/c`\n",
    "\n",
    "`x = (a +b)/c`\n",
    "\n",
    "`x = a + 2*b - 0.5*(1.5**c + 2/7)`\n",
    "\n",
    "Also note that, operations are only allowed on right side, not on the left side. Eg:-\n",
    "\n",
    "`2*x = y`\n",
    "\n",
    "is not allowed."
   ]
  },
  {
   "cell_type": "code",
   "execution_count": null,
   "metadata": {},
   "outputs": [],
   "source": [
    "2*x = y"
   ]
  },
  {
   "cell_type": "code",
   "execution_count": null,
   "metadata": {},
   "outputs": [],
   "source": [
    "y = 2*x\n",
    "print(y)"
   ]
  },
  {
   "cell_type": "code",
   "execution_count": null,
   "metadata": {},
   "outputs": [],
   "source": [
    "# Note that \n",
    "x = 1\n",
    "# is an assignment, not an equation. \n",
    "# One can also do\n",
    "x = x + 1\n",
    "print (x)\n",
    "# Mathematically the above statement does not make much sense."
   ]
  },
  {
   "cell_type": "code",
   "execution_count": null,
   "metadata": {},
   "outputs": [],
   "source": []
  },
  {
   "cell_type": "markdown",
   "metadata": {},
   "source": [
    "#### Python modifiers\n",
    "\n",
    "`x+=1`    add 1 to x and assign it to x i.e `x = x + 1`\n",
    "\n",
    "`x-=2`    subtract 2 from x and assign it to x, i.e. `x = x - 2`\n",
    "\n",
    "`x *= -1.5` multipy x by -1.5 and assign it to x, i.e. `x = x*-1.5`\n",
    "\n",
    "`x /= 3*x`  divide by $3\\times x$ and assign it to x, i.e. `x = x/(3*x)`\n",
    "\n",
    "`x //=1.4`    divide by 1.4 and round down to a whole number and assign it to x, i.e. `x = x//1.4`"
   ]
  },
  {
   "cell_type": "code",
   "execution_count": null,
   "metadata": {},
   "outputs": [],
   "source": [
    "x = 3\n",
    "x += 2\n",
    "print (x)"
   ]
  },
  {
   "cell_type": "markdown",
   "metadata": {},
   "source": [
    "### Importing functions from packages"
   ]
  },
  {
   "cell_type": "code",
   "execution_count": null,
   "metadata": {},
   "outputs": [],
   "source": [
    "x = 10\n",
    "log(x)"
   ]
  },
  {
   "cell_type": "code",
   "execution_count": null,
   "metadata": {},
   "outputs": [],
   "source": [
    "from math import log\n",
    "x = log(x)\n",
    "print (x)"
   ]
  },
  {
   "cell_type": "code",
   "execution_count": null,
   "metadata": {},
   "outputs": [],
   "source": [
    "from math import log10\n",
    "x = 10\n",
    "print log10(x)"
   ]
  },
  {
   "cell_type": "markdown",
   "metadata": {},
   "source": [
    "`math` package will allow us to use many such functions:\n",
    "\n",
    "`log`, `log10`, `exp`, `sin`, `cos`, `tan`, `asin`, `acos`, `atan`, `sinh`, `cosh`, `tanh`, `sqrt`\n"
   ]
  },
  {
   "cell_type": "code",
   "execution_count": null,
   "metadata": {},
   "outputs": [],
   "source": [
    "# It also gives you the value of pi\n",
    "from math import pi\n",
    "print pi"
   ]
  },
  {
   "cell_type": "markdown",
   "metadata": {},
   "source": [
    "If you want you can import more than one function in single line\n",
    "\n",
    "`from math import log, sin, cos`\n",
    "\n",
    "will load three functions simultaneously. \n",
    "There are many other useful packages. You can look up the package `numpy` ."
   ]
  },
  {
   "cell_type": "markdown",
   "metadata": {},
   "source": [
    "### Modules\n",
    "Sometimes, packages contain modules which contain a \n",
    "particular set of functions. For instance, numpy contains \n",
    "a linear algebra module which contains a lot of functions \n",
    "such as inverse."
   ]
  },
  {
   "cell_type": "code",
   "execution_count": null,
   "metadata": {},
   "outputs": [],
   "source": [
    "import numpy.linalg as linalg"
   ]
  },
  {
   "cell_type": "markdown",
   "metadata": {},
   "source": [
    "### Summary : An example program"
   ]
  },
  {
   "cell_type": "code",
   "execution_count": null,
   "metadata": {},
   "outputs": [],
   "source": [
    "from math import sin, cos, pi\n",
    "# Ask the user to enter values for radius and angle\n",
    "r = float(input(\"Enter r = \"))\n",
    "degree = float(input(\"Enter theta in degrees =\"))\n",
    "\n",
    "# Covert degree to radians\n",
    "\n",
    "theta = degree*pi/180\n",
    "\n",
    "# Convert (r, theta) to equivalent cartesian coordinates\n",
    "\n",
    "x = r*cos(theta)\n",
    "y = r*sin(theta)\n",
    "\n",
    "# Output results\n",
    "\n",
    "print (\"x=\", x, \"and y=\", y)"
   ]
  },
  {
   "cell_type": "markdown",
   "metadata": {},
   "source": [
    "### Controlling programs with **if** and **while**"
   ]
  },
  {
   "cell_type": "markdown",
   "metadata": {},
   "source": [
    "#### The if statement\n",
    "\n",
    "The `if` statement executes an expression only if certain condition is satisfied. It has the format\n",
    "\n",
    "```\n",
    "if condition :\n",
    "       instruction 1\n",
    "       \n",
    "       instruction 2\n",
    "       \n",
    "       ...\n",
    "       \n",
    "       instruction n\n",
    "```\n",
    "Note the semicolon and the indent. It tells the code which part should be evaluated when the condition is satisfied.\n",
    "\n",
    "Conditions are of various types:\n",
    "\n",
    "* `if x==1`   => Chack if $x=1$. Note the two equal signs\n",
    "\n",
    "* `if x>1`\n",
    "\n",
    "* `if x>=1`\n",
    "\n",
    "* `if x<1`\n",
    "\n",
    "* `if x<=1`\n",
    "\n",
    "* `if x!=1`    => Check if $x \\neq 1$\n"
   ]
  },
  {
   "cell_type": "code",
   "execution_count": null,
   "metadata": {},
   "outputs": [],
   "source": [
    "# A program to alert the user when they enter a number larger than 10\n",
    "\n",
    "x = int(input(\"Enter a whole number less than or equal to 10: \"))\n",
    "if x>10:\n",
    "    print (\"You entered a number larger than 10.\")\n",
    "    print (\"Re-assigning the number as 10!\")\n",
    "    x = 10\n",
    "print (\"The number you entered is :\", x)"
   ]
  },
  {
   "cell_type": "markdown",
   "metadata": {},
   "source": [
    "#### Relational operators\n",
    "` >, <, ==, >=, <=, !=` are relational operators. Their anser is `True` or `False`.\n",
    "\n",
    "#### Boolean operators in python\n",
    "1. and\n",
    "2. or\n",
    "3. not"
   ]
  },
  {
   "cell_type": "code",
   "execution_count": null,
   "metadata": {},
   "outputs": [],
   "source": [
    "x=20\n",
    "y=30\n",
    "x>y"
   ]
  },
  {
   "cell_type": "code",
   "execution_count": null,
   "metadata": {},
   "outputs": [],
   "source": [
    "x>0  and y>0"
   ]
  },
  {
   "cell_type": "code",
   "execution_count": null,
   "metadata": {},
   "outputs": [],
   "source": [
    "x>0 or y<10"
   ]
  },
  {
   "cell_type": "code",
   "execution_count": null,
   "metadata": {},
   "outputs": [],
   "source": [
    "not(x>0 and y>0)"
   ]
  },
  {
   "cell_type": "code",
   "execution_count": null,
   "metadata": {},
   "outputs": [],
   "source": [
    "# One can use more than one conditions in if statement\n",
    "x = float(input(\"enter x between 1 and 10:\"))\n",
    "if x>10 or x<1:\n",
    "    print (\"Number is out of bound\")"
   ]
  },
  {
   "cell_type": "markdown",
   "metadata": {},
   "source": [
    "#### if - elif - else"
   ]
  },
  {
   "cell_type": "code",
   "execution_count": null,
   "metadata": {},
   "outputs": [],
   "source": [
    "x = float(input(\"enter x:\"))\n",
    "if x> 10:\n",
    "    print (\"x is greater than 10\")\n",
    "elif x<1:\n",
    "    print (\"x is less than 1\") \n",
    "else:\n",
    "    print (\"Number is in the required range\")"
   ]
  },
  {
   "cell_type": "markdown",
   "metadata": {},
   "source": [
    "#### The while statement"
   ]
  },
  {
   "cell_type": "code",
   "execution_count": null,
   "metadata": {},
   "outputs": [],
   "source": [
    "# Program to count backwards\n",
    "x = int(input(\"Enter a number:\"))\n",
    "while x>0:\n",
    "    x -=1\n",
    "    print (x,\" \" , end=\"\") #'comma' causes print to print in same line. \n",
    "print (\".\")\n",
    "print (\"Finished counting backwards\")\n",
    "# To print in same line in python 3 use print(x, end=\" \")"
   ]
  },
  {
   "cell_type": "markdown",
   "metadata": {},
   "source": [
    "#### Break and continue"
   ]
  },
  {
   "cell_type": "code",
   "execution_count": null,
   "metadata": {},
   "outputs": [],
   "source": [
    "# Enter password\n",
    "x=\"abc\"\n",
    "while x!=\"PH755\":\n",
    "    x = input(\"Enter password in quotes:\")\n",
    "    if x==\"PH755\":\n",
    "        print \"Welcome!\"\n",
    "    if x==\"quit\":\n",
    "        break\n",
    "    print \"Enter 'quit' to exit\""
   ]
  },
  {
   "cell_type": "code",
   "execution_count": null,
   "metadata": {},
   "outputs": [],
   "source": [
    "x =10\n",
    "while x>0:\n",
    "    x -=1\n",
    "    if x==5:\n",
    "        continue\n",
    "    print x,"
   ]
  },
  {
   "cell_type": "code",
   "execution_count": null,
   "metadata": {},
   "outputs": [],
   "source": [
    "x =1\n",
    "print x"
   ]
  },
  {
   "cell_type": "code",
   "execution_count": null,
   "metadata": {},
   "outputs": [],
   "source": [
    "# Print positive odd numbers less than a number\n",
    "x=int(input(\"Enter a number :\"))\n",
    "while x>0:\n",
    "    if x%2 !=0:\n",
    "        x -=1\n",
    "        continue # skips a step in the while loop\n",
    "        print x\n",
    "    else:\n",
    "        x-=1\n",
    "        print x,"
   ]
  },
  {
   "cell_type": "code",
   "execution_count": null,
   "metadata": {},
   "outputs": [],
   "source": [
    "# Fibonacci sequence\n",
    "f1 = 1\n",
    "f2 = 1\n",
    "next = f1 + f2\n",
    "while f1 <=1000:\n",
    "    print f1,\n",
    "    f1 = f2\n",
    "    f2 = next\n",
    "    next = f1+f2"
   ]
  },
  {
   "cell_type": "markdown",
   "metadata": {},
   "source": [
    "##### Exercise : Catalan numbers\n",
    "The Catalan numbers $C_n$ are a sequence of integers that play an important role in quantum mechanics and theory of disordered systems. For more information, see this [wiki page](https://en.wikipedia.org/wiki/Catalan_number). They are given by\n",
    "$$ C_0 = 1$$\n",
    "$$ C_{n+1} = \\frac{4 n + 2}{n+2}C_n$$\n",
    "Write a program that prints in increasing order all Catalan numbers less than or equal to one billion."
   ]
  },
  {
   "cell_type": "code",
   "execution_count": null,
   "metadata": {},
   "outputs": [],
   "source": [
    "# Write your solution here!\n"
   ]
  },
  {
   "cell_type": "markdown",
   "metadata": {},
   "source": [
    "### Lists and Arrays\n",
    "\n",
    "Variables store single values. Often we would want to store a set of values. Eg:- In three dimensions, position vector ${\\bf r}$ is a list of three numbers. We would also want to work with matrices. \n",
    "\n",
    "For this purpose, Python provides objects known as *containers*. We will deal with lists and arrays."
   ]
  },
  {
   "cell_type": "markdown",
   "metadata": {},
   "source": [
    "#### Lists"
   ]
  },
  {
   "cell_type": "code",
   "execution_count": null,
   "metadata": {},
   "outputs": [],
   "source": [
    "# List is a collection of quantities\n",
    "[1,2,3]"
   ]
  },
  {
   "cell_type": "code",
   "execution_count": null,
   "metadata": {},
   "outputs": [],
   "source": [
    "# Not all elements in a list need to be of same type. \n",
    "[1,2.,3. +4j,\"a\"]\n",
    "# However, in most cases elements of a list will be of same type."
   ]
  },
  {
   "cell_type": "code",
   "execution_count": null,
   "metadata": {},
   "outputs": [],
   "source": [
    "# a variable can be set equal to a list\n",
    "r = [1,2,3]\n",
    "r"
   ]
  },
  {
   "cell_type": "code",
   "execution_count": null,
   "metadata": {},
   "outputs": [],
   "source": [
    "# One can constitute a list using variables\n",
    "x, y, z = 2, 3, 4\n",
    "r = [x**2, y**2, z**2]\n",
    "print r"
   ]
  },
  {
   "cell_type": "code",
   "execution_count": null,
   "metadata": {},
   "outputs": [],
   "source": [
    "# Elements in a list can be accessed as follows:\n",
    "print r"
   ]
  },
  {
   "cell_type": "code",
   "execution_count": null,
   "metadata": {},
   "outputs": [],
   "source": [
    "print r[0], r[1], r[2]\n",
    "print r[-1], r[-2], r[-3]\n",
    "print r[0:2]"
   ]
  },
  {
   "cell_type": "code",
   "execution_count": null,
   "metadata": {},
   "outputs": [],
   "source": [
    "a = [2,4,6,8,10]\n",
    "a[1:3]"
   ]
  },
  {
   "cell_type": "code",
   "execution_count": null,
   "metadata": {},
   "outputs": [],
   "source": [
    "# One can also change elements of a list\n",
    "print r\n",
    "r[1]=0\n",
    "r"
   ]
  },
  {
   "cell_type": "markdown",
   "metadata": {},
   "source": [
    "##### Trivia \n",
    "\n",
    "The `In` and `Out` written in front of each cell is a list. Try it out."
   ]
  },
  {
   "cell_type": "code",
   "execution_count": null,
   "metadata": {},
   "outputs": [],
   "source": [
    "Out[33]"
   ]
  },
  {
   "cell_type": "code",
   "execution_count": null,
   "metadata": {},
   "outputs": [],
   "source": [
    "# One can apply certain operations on entire list. Eg:-\n",
    "r = [1., 1.5, 2.5]\n",
    "print \"r = \", r\n",
    "print \"sum of r is :\", sum(r) # adds all elements\n",
    "# length of a list\n",
    "print \"Number of elements in r is\", len(r)\n",
    "# So, one could add above two statements to find mean\n",
    "mean = sum(r)/len(r)\n",
    "print \"Mean of list r is :\", mean\n"
   ]
  },
  {
   "cell_type": "code",
   "execution_count": null,
   "metadata": {},
   "outputs": [],
   "source": [
    "# One can add more elements in to a list using the following command\n",
    "r = [1., 1.5, 2.5]\n",
    "r.append(4)\n",
    "print \" Appended a new element to r. Now r is :\", r"
   ]
  },
  {
   "cell_type": "code",
   "execution_count": null,
   "metadata": {},
   "outputs": [],
   "source": [
    "r.reverse()\n",
    "print r"
   ]
  },
  {
   "cell_type": "code",
   "execution_count": null,
   "metadata": {},
   "outputs": [],
   "source": [
    "# One can remove values from end of a list\n",
    "r = [1., 1.5, 2.5, 4.]\n",
    "print r.pop()\n",
    "print r"
   ]
  },
  {
   "cell_type": "code",
   "execution_count": null,
   "metadata": {},
   "outputs": [],
   "source": [
    "# Empty list \n",
    "r=[]\n",
    "print r"
   ]
  },
  {
   "cell_type": "code",
   "execution_count": null,
   "metadata": {},
   "outputs": [],
   "source": [
    "from math import sin\n",
    "r =[1.,2.,3.]\n",
    "sin(r)"
   ]
  },
  {
   "cell_type": "code",
   "execution_count": null,
   "metadata": {},
   "outputs": [],
   "source": [
    "# One can map operations to each elements of a list\n",
    "from math import sin, pi\n",
    "r = [0, pi/4, pi/2, 3*pi/4, pi]\n",
    "map(sin,r)"
   ]
  },
  {
   "cell_type": "code",
   "execution_count": null,
   "metadata": {},
   "outputs": [],
   "source": [
    "# What happens when we add two lists:\n",
    "a = [0,1,2]\n",
    "b = [1,1,1]\n",
    "print \" a + b = \", a+b\n",
    "# What happens when we multiply a list by an integer:\n",
    "print \" 3*a =\", 3*a\n",
    "# You cannot "
   ]
  },
  {
   "cell_type": "code",
   "execution_count": null,
   "metadata": {},
   "outputs": [],
   "source": [
    "# Lists can be multidimensional i.e. lists can contain lists.\n",
    "a =[0,1,2]\n",
    "b = [3,4,5]\n",
    "c=[a,b]\n",
    "print c\n",
    "print \" The 01 and 12 elements are :\", c[0][1], c[1][2]"
   ]
  },
  {
   "cell_type": "code",
   "execution_count": null,
   "metadata": {},
   "outputs": [],
   "source": [
    "c[0][2]"
   ]
  },
  {
   "cell_type": "markdown",
   "metadata": {},
   "source": [
    "#### Arrays\n",
    "\n",
    "Arrays are also an ordered list with the following conditions:\n",
    "\n",
    "1. Number of elements in an array is fixed, *i.e.* you cannot use `append`.\n",
    "\n",
    "* The elements of an array are all of the same type.\n",
    "\n",
    "* Arrays are like vectors or matrices. One can do arithmetic operations on them. \n",
    "\n",
    "* Arrays can have multiple dimensions\n",
    "\n",
    "* Operations on arrays are faster than those on lists.\n",
    "\n",
    "The package `numpy` provides a lot of functions for creation and manipulation of arrays."
   ]
  },
  {
   "cell_type": "code",
   "execution_count": null,
   "metadata": {},
   "outputs": [],
   "source": [
    "import numpy as np"
   ]
  },
  {
   "cell_type": "code",
   "execution_count": null,
   "metadata": {},
   "outputs": [],
   "source": [
    "# An array of zeros\n",
    "np.zeros([3],int) \n",
    "# Try the following: (1) remove float (2) replace float by int or complex."
   ]
  },
  {
   "cell_type": "code",
   "execution_count": null,
   "metadata": {},
   "outputs": [],
   "source": [
    "# An array of ones\n",
    "np.ones([3,2],float)"
   ]
  },
  {
   "cell_type": "code",
   "execution_count": null,
   "metadata": {},
   "outputs": [],
   "source": [
    "# An empty array\n",
    "np.empty(3)\n",
    "# It is not really empty, it contains random numbers \n",
    "# littering around in computers memory."
   ]
  },
  {
   "cell_type": "code",
   "execution_count": null,
   "metadata": {},
   "outputs": [],
   "source": [
    "# Convert a list to an array\n",
    "r = [1.,2, 3]\n",
    "np.array(r,float)"
   ]
  },
  {
   "cell_type": "code",
   "execution_count": null,
   "metadata": {},
   "outputs": [],
   "source": [
    "# One could create an array by reading data from a file. \n",
    "addition_table=np.loadtxt(\"/home/sreenath/Desktop/sample_data.txt\",float)\n",
    "print addition_table\n",
    "# Note that one need to give the correct location."
   ]
  },
  {
   "cell_type": "markdown",
   "metadata": {},
   "source": [
    "#### Accessing elements in arrays"
   ]
  },
  {
   "cell_type": "code",
   "execution_count": null,
   "metadata": {},
   "outputs": [],
   "source": [
    "# To access a single element\n",
    "print \"(0,2) element is:\", addition_table[0,2]"
   ]
  },
  {
   "cell_type": "code",
   "execution_count": null,
   "metadata": {},
   "outputs": [],
   "source": [
    "# To access all elements in a row\n",
    "print \"all elements in the row 1 is : \", addition_table[1,:]"
   ]
  },
  {
   "cell_type": "code",
   "execution_count": null,
   "metadata": {},
   "outputs": [],
   "source": [
    "# To access all elements in a column\n",
    "print \"all elements in the column 2 is : \", addition_table[:,2]"
   ]
  },
  {
   "cell_type": "code",
   "execution_count": null,
   "metadata": {},
   "outputs": [],
   "source": [
    "# To access a portion of the array:\n",
    "print \"first three rows and last two columns are:\"\n",
    "print addition_table[0:3,1:3]\n",
    "# This is known as slicing"
   ]
  },
  {
   "cell_type": "code",
   "execution_count": null,
   "metadata": {},
   "outputs": [],
   "source": [
    "# Last two columns and rows\n",
    "print \"last two columns and rows\"\n",
    "addition_table[-2:,-2:]"
   ]
  },
  {
   "cell_type": "markdown",
   "metadata": {},
   "source": [
    "#### Arithmetic with arrays"
   ]
  },
  {
   "cell_type": "code",
   "execution_count": null,
   "metadata": {},
   "outputs": [],
   "source": [
    "# product with scalars\n",
    "a = np.array([1,2,3])\n",
    "print a\n",
    "print a+1\n",
    "print a*2\n",
    "print 2*a -1\n",
    "print a/2."
   ]
  },
  {
   "cell_type": "code",
   "execution_count": null,
   "metadata": {},
   "outputs": [],
   "source": [
    "# Arrays can be added to each other\n",
    "a = np.array([[2,3],[4,5]],float)\n",
    "print \"a =\", a\n",
    "#print \"b=\",b\n",
    "b= np.ones([2,2], int)\n",
    "print \"b =\", b\n",
    "print \"a+b =\",a+b\n"
   ]
  },
  {
   "cell_type": "code",
   "execution_count": null,
   "metadata": {},
   "outputs": [],
   "source": [
    "# arrays can be subtracted \n",
    "a-b"
   ]
  },
  {
   "cell_type": "code",
   "execution_count": null,
   "metadata": {},
   "outputs": [],
   "source": [
    "# arrays can be multiplied : element wis addition\n",
    "a*b"
   ]
  },
  {
   "cell_type": "code",
   "execution_count": null,
   "metadata": {},
   "outputs": [],
   "source": [
    "# arrays can be divided : element wise division\n",
    "b/a"
   ]
  },
  {
   "cell_type": "code",
   "execution_count": null,
   "metadata": {},
   "outputs": [],
   "source": [
    "# To perform matrix multiplication\n",
    "np.dot(a,b)"
   ]
  },
  {
   "cell_type": "markdown",
   "metadata": {},
   "source": [
    "#### Shape and size of an array"
   ]
  },
  {
   "cell_type": "code",
   "execution_count": null,
   "metadata": {},
   "outputs": [],
   "source": [
    "print a\n",
    "a.size"
   ]
  },
  {
   "cell_type": "code",
   "execution_count": null,
   "metadata": {},
   "outputs": [],
   "source": [
    "a.shape"
   ]
  },
  {
   "cell_type": "code",
   "execution_count": null,
   "metadata": {},
   "outputs": [],
   "source": [
    "a = np.random.rand(3,5)\n",
    "print a\n",
    "print np.size(a)\n",
    "print np.shape(a)"
   ]
  },
  {
   "cell_type": "code",
   "execution_count": null,
   "metadata": {},
   "outputs": [],
   "source": [
    "a.reshape(5,3)"
   ]
  },
  {
   "cell_type": "code",
   "execution_count": null,
   "metadata": {},
   "outputs": [],
   "source": [
    "##### Exercise:\n",
    "#Find out the use of the following functions:\n",
    "print a\n",
    "print np.max(a)   \n",
    "print np.min(a)"
   ]
  },
  {
   "cell_type": "markdown",
   "metadata": {},
   "source": [
    "#### Python treats array names as pointers "
   ]
  },
  {
   "cell_type": "code",
   "execution_count": null,
   "metadata": {},
   "outputs": [],
   "source": [
    "# Consider the following example. Is the answer what you had expected?\n",
    "a = 2\n",
    "b = a\n",
    "a = 3\n",
    "print a, b "
   ]
  },
  {
   "cell_type": "code",
   "execution_count": null,
   "metadata": {},
   "outputs": [],
   "source": [
    "# Now consider the following example. Is the answer what you had expected?\n",
    "a = np.zeros(2)\n",
    "b = a\n",
    "a[0]=2\n",
    "print a\n",
    "print b\n",
    "# i.e. a points to a memory location and when one assigns \n",
    "# b = a, what Python really does is to make b also point to \n",
    "# the same memory location."
   ]
  },
  {
   "cell_type": "code",
   "execution_count": null,
   "metadata": {},
   "outputs": [],
   "source": [
    "# So, how does one actually make a copy of an array\n",
    "a = np.zeros(2)\n",
    "b = np.copy(a)\n",
    "a[0]=2\n",
    "print a\n",
    "print b"
   ]
  },
  {
   "cell_type": "markdown",
   "metadata": {},
   "source": [
    "#### range and arange operators"
   ]
  },
  {
   "cell_type": "code",
   "execution_count": null,
   "metadata": {},
   "outputs": [],
   "source": [
    "# range produces a list\n",
    "print range(1,11,2)# range ( starting number, n+1th number, step size)\n",
    "print range(11) # here starting number is zero, n+1 th number is, step size =1"
   ]
  },
  {
   "cell_type": "code",
   "execution_count": null,
   "metadata": {},
   "outputs": [],
   "source": [
    "# arange produces an array\n",
    "np.arange(1.,2.,.1)# add float or complex"
   ]
  },
  {
   "cell_type": "markdown",
   "metadata": {},
   "source": [
    "### for loop"
   ]
  },
  {
   "cell_type": "code",
   "execution_count": null,
   "metadata": {},
   "outputs": [],
   "source": [
    "# Print out the multiplication table for 2 :\n",
    "for i in np.array([1,2,3,4]):\n",
    "    print \"2 *\",i,\"=\",2*i"
   ]
  },
  {
   "cell_type": "markdown",
   "metadata": {},
   "source": [
    "### User defined function\n",
    "\n",
    "Often there will be steps in calculation that we want to repeat several number of times. To saveeffort and readability of the code, one can write them as functions."
   ]
  },
  {
   "cell_type": "code",
   "execution_count": null,
   "metadata": {},
   "outputs": [],
   "source": [
    "# Function to compute factorial\n",
    "def factorial(n):\n",
    "    f =1.0\n",
    "    for k in range(1,n+1):\n",
    "        f*=k\n",
    "    return f"
   ]
  },
  {
   "cell_type": "code",
   "execution_count": null,
   "metadata": {},
   "outputs": [],
   "source": [
    "factorial(5)"
   ]
  },
  {
   "cell_type": "markdown",
   "metadata": {},
   "source": [
    "##### Exercise : Pascal's triangle :\n",
    "\n",
    "   a. Write a function `binomial(n,k)` to compute binomial \n",
    "    coefficient. Make sure to return answers as integer. \n",
    "    Make sure that it gives $1$ for `k=0`.\n",
    "    \n",
    "   b. Print out first 10 lines of Pascals triangle \n",
    "    i.e n$_{\\rm th}$ line will contain binomial(n,0), \n",
    "    binomial(n,1), ..., binomial(n,n).\n",
    "    \n",
    "   c. Probability of obtaining k heads in n tosses is \n",
    "    `binomial(n,k)/2**n`. Write a program to calculate \n",
    "    probability of obtaining 40 heads in 100 tosses. \n",
    "    Write a program to calculate 40 or more heads in \n",
    "    100 tosses. "
   ]
  },
  {
   "cell_type": "code",
   "execution_count": null,
   "metadata": {},
   "outputs": [],
   "source": [
    "# Write the solution here!\n"
   ]
  },
  {
   "cell_type": "code",
   "execution_count": null,
   "metadata": {},
   "outputs": [],
   "source": []
  },
  {
   "cell_type": "code",
   "execution_count": null,
   "metadata": {},
   "outputs": [],
   "source": []
  },
  {
   "cell_type": "code",
   "execution_count": null,
   "metadata": {},
   "outputs": [],
   "source": []
  },
  {
   "cell_type": "markdown",
   "metadata": {},
   "source": [
    "##### Exercise : Prime numbers :\n",
    "\n",
    "1. Write a function to compute whether a number is prime or not. \n",
    "\n",
    "2. Use that function to print all primes less than a number n. "
   ]
  },
  {
   "cell_type": "code",
   "execution_count": null,
   "metadata": {},
   "outputs": [],
   "source": []
  },
  {
   "cell_type": "code",
   "execution_count": null,
   "metadata": {},
   "outputs": [],
   "source": []
  },
  {
   "cell_type": "markdown",
   "metadata": {},
   "source": [
    "#### Some more details about lists and arrays"
   ]
  },
  {
   "cell_type": "code",
   "execution_count": null,
   "metadata": {},
   "outputs": [],
   "source": [
    "a_list=[1.,2, 3+5j]\n",
    "print a_list"
   ]
  },
  {
   "cell_type": "code",
   "execution_count": null,
   "metadata": {},
   "outputs": [],
   "source": [
    "an_array=np.array([1.,2,3+5j])"
   ]
  },
  {
   "cell_type": "code",
   "execution_count": null,
   "metadata": {},
   "outputs": [],
   "source": [
    "an_array=np.array([1.,2,3+5j,4.])\n",
    "an_array"
   ]
  },
  {
   "cell_type": "code",
   "execution_count": null,
   "metadata": {},
   "outputs": [],
   "source": [
    "# We can append to a list\n",
    "a_list.append(5)"
   ]
  },
  {
   "cell_type": "code",
   "execution_count": null,
   "metadata": {},
   "outputs": [],
   "source": [
    "a_list"
   ]
  },
  {
   "cell_type": "code",
   "execution_count": null,
   "metadata": {},
   "outputs": [],
   "source": [
    "#One cannot add a number to a list\n",
    "a_list+1"
   ]
  },
  {
   "cell_type": "code",
   "execution_count": null,
   "metadata": {},
   "outputs": [],
   "source": [
    "# One can add a number to an array\n",
    "an_array+1."
   ]
  },
  {
   "cell_type": "code",
   "execution_count": null,
   "metadata": {},
   "outputs": [],
   "source": [
    "2*a_list"
   ]
  },
  {
   "cell_type": "code",
   "execution_count": null,
   "metadata": {},
   "outputs": [],
   "source": [
    "print an_array\n",
    "an_array/2"
   ]
  },
  {
   "cell_type": "code",
   "execution_count": null,
   "metadata": {},
   "outputs": [],
   "source": [
    "position = np.array([2,3,0.])\n",
    "velocity = np.array([1,1,1.])"
   ]
  },
  {
   "cell_type": "code",
   "execution_count": null,
   "metadata": {},
   "outputs": [],
   "source": [
    "#v dot r\n",
    "np.dot(position,velocity)"
   ]
  },
  {
   "cell_type": "code",
   "execution_count": null,
   "metadata": {},
   "outputs": [],
   "source": [
    "# It is possible to perform vector operation using lists. \n",
    "# But operation using arrays are faster(as I will show below)\n",
    "# v dot r using list\n",
    "position_list = [2.,3.,0]\n",
    "velocity_list = [1.,1.,1.]\n",
    "a=0.\n",
    "for i in range(len(position_list)):\n",
    "    a+=position_list[i]*velocity_list[i]\n",
    "print a"
   ]
  },
  {
   "cell_type": "code",
   "execution_count": null,
   "metadata": {},
   "outputs": [],
   "source": [
    "position+velocity"
   ]
  },
  {
   "cell_type": "markdown",
   "metadata": {},
   "source": [
    "### Miscellanious"
   ]
  },
  {
   "cell_type": "markdown",
   "metadata": {},
   "source": [
    "#### Variables and ranges\n",
    "\n",
    "One cannot store arbitrarily large numbers. For floats largest number possible is roughly $\\pm 1.e308$ (corresponding to $2^{1024}$). When it is larger than this number, we call it an *overflow*. A complex type also has this limit for both real and imaginary parts. Smallest number possible is roughly $10^{-308}$. When the number is smaller, then it is called an *underflow*.\n",
    "Python can store any number of digits for an integer. However larger the number, slower the operation and more the memory needed. Result of an overflow is `inf` and that of an underflow is `0.0`."
   ]
  },
  {
   "cell_type": "code",
   "execution_count": null,
   "metadata": {},
   "outputs": [],
   "source": [
    "x=1.e309\n",
    "print x\n",
    "x = 1.e-330\n",
    "print x"
   ]
  },
  {
   "cell_type": "code",
   "execution_count": null,
   "metadata": {},
   "outputs": [],
   "source": [
    "# operations with large integers take time\n",
    "import time as time\n",
    "start = time.time()\n",
    "2**100000000\n",
    "end  = time.time()\n",
    "print end-start"
   ]
  },
  {
   "cell_type": "markdown",
   "metadata": {},
   "source": [
    "#### A note when using `==` condition\n",
    "\n",
    "Python will round off digits. Hence two numbers may never be exactly equal. \n",
    "Because of this reason one should not use equality of two numbers as a condition for `if` statement. "
   ]
  },
  {
   "cell_type": "code",
   "execution_count": null,
   "metadata": {},
   "outputs": [],
   "source": [
    "x=0.1\n",
    "for i in range(11):\n",
    "    x +=0.1\n",
    "    if x==0.8:\n",
    "        print \"We have reached x =\",x\n",
    "    print x,"
   ]
  },
  {
   "cell_type": "code",
   "execution_count": null,
   "metadata": {},
   "outputs": [],
   "source": [
    "# If one indeed wants to do this check, then check their equality up to an error `eps`.\n",
    "x=0.1\n",
    "eps = 1.e-6\n",
    "for i in range(11):\n",
    "    x +=0.1\n",
    "    if np.abs(x-0.8) < 1.e-6:\n",
    "        print \"We have reached x =\",x\n",
    "    print x,"
   ]
  },
  {
   "cell_type": "markdown",
   "metadata": {},
   "source": [
    "#### Round off error "
   ]
  },
  {
   "cell_type": "code",
   "execution_count": null,
   "metadata": {},
   "outputs": [],
   "source": [
    "from math import sqrt\n",
    "x = 1.\n",
    "y = 1. + 1.e-16*sqrt(2)\n",
    "print 1.e16*(y-x)\n",
    "print sqrt(2)\n",
    "# Second print statement is correct value pi. \n",
    "#Python keeps only 16 significant digits. Hence, \n",
    "#in the first print statement, the answer is correct \n",
    "# only to first two significant digits. "
   ]
  },
  {
   "cell_type": "markdown",
   "metadata": {},
   "source": [
    "#### Formatting in print statement"
   ]
  },
  {
   "cell_type": "code",
   "execution_count": null,
   "metadata": {},
   "outputs": [],
   "source": [
    "print \"{0} is not equal to {1:.1f}\".format(2,3.4526)"
   ]
  },
  {
   "cell_type": "markdown",
   "metadata": {},
   "source": [
    "#### Program speed\n",
    "\n",
    "In general a computer can do a million arithmetic operations with in a second. For a billion operation, it will take few minutes to hours. This is still doable. Beyond that one needs more powerful computers."
   ]
  },
  {
   "cell_type": "code",
   "execution_count": null,
   "metadata": {},
   "outputs": [],
   "source": [
    "import numpy as np\n",
    "start = time.time()\n",
    "sum(np.arange(1.e8))\n",
    "end = time.time()\n",
    "print end-start"
   ]
  },
  {
   "cell_type": "markdown",
   "metadata": {},
   "source": [
    "#### Power of vectorization"
   ]
  },
  {
   "cell_type": "code",
   "execution_count": null,
   "metadata": {},
   "outputs": [],
   "source": [
    "# v dot r using list\n",
    "position_list = list(np.random.rand(10000000))\n",
    "velocity_list = list(np.random.rand(10000000))\n",
    "a=0.\n",
    "start = time.time()\n",
    "for i in range(len(position_list)):\n",
    "    a+=position_list[i]*velocity_list[i]\n",
    "end = time.time()\n",
    "print a\n",
    "print end-start"
   ]
  },
  {
   "cell_type": "code",
   "execution_count": null,
   "metadata": {},
   "outputs": [],
   "source": [
    "position = np.random.rand(10000000)\n",
    "velocity = np.random.rand(10000000)\n",
    "start = time.time()\n",
    "a = np.dot(position,velocity)\n",
    "end = time.time()\n",
    "print a\n",
    "print end - start"
   ]
  },
  {
   "cell_type": "code",
   "execution_count": null,
   "metadata": {},
   "outputs": [],
   "source": []
  },
  {
   "cell_type": "code",
   "execution_count": null,
   "metadata": {},
   "outputs": [],
   "source": [
    "a=[1,3., 5]\n",
    "b = [2, 4., 6]"
   ]
  },
  {
   "cell_type": "code",
   "execution_count": null,
   "metadata": {},
   "outputs": [],
   "source": [
    "a+b"
   ]
  },
  {
   "cell_type": "code",
   "execution_count": null,
   "metadata": {},
   "outputs": [],
   "source": [
    "2*b"
   ]
  },
  {
   "cell_type": "code",
   "execution_count": null,
   "metadata": {},
   "outputs": [],
   "source": [
    "a[2]"
   ]
  },
  {
   "cell_type": "code",
   "execution_count": null,
   "metadata": {},
   "outputs": [],
   "source": [
    "import numpy as np\n",
    "c = np.array([1, 3, 5, 7, 9 ,11, 13, 15])\n",
    "d = np.array([2, 4, 6, 8, 10, 12, 14, 16])"
   ]
  },
  {
   "cell_type": "code",
   "execution_count": null,
   "metadata": {},
   "outputs": [],
   "source": [
    "c[-3:]"
   ]
  },
  {
   "cell_type": "code",
   "execution_count": null,
   "metadata": {},
   "outputs": [],
   "source": []
  }
 ],
 "metadata": {
  "kernelspec": {
   "display_name": "Python 3",
   "language": "python",
   "name": "python3"
  },
  "language_info": {
   "codemirror_mode": {
    "name": "ipython",
    "version": 3
   },
   "file_extension": ".py",
   "mimetype": "text/x-python",
   "name": "python",
   "nbconvert_exporter": "python",
   "pygments_lexer": "ipython3",
   "version": "3.8.5"
  }
 },
 "nbformat": 4,
 "nbformat_minor": 4
}
